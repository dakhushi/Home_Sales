{
  "cells": [
    {
      "cell_type": "code",
      "source": [
        "#Install Java:\n",
        "!apt-get install openjdk-8-jdk-headless -qq > /dev/null"
      ],
      "metadata": {
        "id": "rDoMWOMV4zwH"
      },
      "execution_count": 1,
      "outputs": []
    },
    {
      "cell_type": "code",
      "source": [
        "#Download and Install Spark: Use the following commands to download and set up Spark:\n",
        "\n",
        "!wget -q https://archive.apache.org/dist/spark/spark-3.4.0/spark-3.4.0-bin-hadoop3.tgz\n",
        "!tar xf spark-3.4.0-bin-hadoop3.tgz"
      ],
      "metadata": {
        "id": "V1FxNKnY42fH"
      },
      "execution_count": 6,
      "outputs": []
    },
    {
      "cell_type": "code",
      "source": [
        "#Set Environment Variables: Set the necessary environment variables for Spark and Java:\n",
        "\n",
        "import os\n",
        "os.environ[\"JAVA_HOME\"] = \"/usr/lib/jvm/java-11-openjdk-amd64\"\n",
        "os.environ[\"SPARK_HOME\"] = \"/content/spark-3.4.0-bin-hadoop3\""
      ],
      "metadata": {
        "id": "Ks8yzgDSPjTA"
      },
      "execution_count": 7,
      "outputs": []
    },
    {
      "cell_type": "code",
      "source": [
        "#Install PySpark: Install PySpark using pip:\n",
        "!pip install -q pyspark"
      ],
      "metadata": {
        "id": "Hi_BlZ-kPnPj"
      },
      "execution_count": 41,
      "outputs": []
    },
    {
      "cell_type": "code",
      "source": [
        "#Start Spark Session:\n",
        "!pip install findspark\n",
        "\n",
        "import findspark\n",
        "findspark.init()\n",
        "\n",
        "# Import packages\n",
        "from pyspark.sql import SparkSession\n",
        "import time\n",
        "\n",
        "# Create a SparkSession\n",
        "spark = SparkSession.builder.appName(\"SparkSQL\").getOrCreate()"
      ],
      "metadata": {
        "id": "pEdKwqRj5Mwx",
        "colab": {
          "base_uri": "https://localhost:8080/"
        },
        "outputId": "82ac9d00-91a5-4264-d7fd-ed741a287650"
      },
      "execution_count": 42,
      "outputs": [
        {
          "output_type": "stream",
          "name": "stdout",
          "text": [
            "Requirement already satisfied: findspark in /usr/local/lib/python3.10/dist-packages (2.0.1)\n"
          ]
        }
      ]
    },
    {
      "cell_type": "code",
      "execution_count": 43,
      "metadata": {
        "id": "wOJqxG_RPSwp",
        "colab": {
          "base_uri": "https://localhost:8080/"
        },
        "outputId": "1d4f25f9-9ca0-4682-c7bd-9105b361ed76"
      },
      "outputs": [
        {
          "output_type": "stream",
          "name": "stdout",
          "text": [
            "+--------------------+----------+----------+------+--------+---------+-----------+--------+------+----------+----+\n",
            "|                  id|      date|date_built| price|bedrooms|bathrooms|sqft_living|sqft_lot|floors|waterfront|view|\n",
            "+--------------------+----------+----------+------+--------+---------+-----------+--------+------+----------+----+\n",
            "|f8a53099-ba1c-47d...|2022-04-08|      2016|936923|       4|        3|       3167|   11733|     2|         1|  76|\n",
            "|7530a2d8-1ae3-451...|2021-06-13|      2013|379628|       2|        2|       2235|   14384|     1|         0|  23|\n",
            "|43de979c-0bf0-4c9...|2019-04-12|      2014|417866|       2|        2|       2127|   10575|     2|         0|   0|\n",
            "|b672c137-b88c-48b...|2019-10-16|      2016|239895|       2|        2|       1631|   11149|     2|         0|   0|\n",
            "|e0726d4d-d595-407...|2022-01-08|      2017|424418|       3|        2|       2249|   13878|     2|         0|   4|\n",
            "|5aa00529-0533-46b...|2019-01-30|      2017|218712|       2|        3|       1965|   14375|     2|         0|   7|\n",
            "|131492a1-72e2-4a8...|2020-02-08|      2017|419199|       2|        3|       2062|    8876|     2|         0|   6|\n",
            "|8d54a71b-c520-44e...|2019-07-21|      2010|323956|       2|        3|       1506|   11816|     1|         0|  25|\n",
            "|e81aacfe-17fe-46b...|2020-06-16|      2016|181925|       3|        3|       2137|   11709|     2|         0|  22|\n",
            "|2ed8d509-7372-46d...|2021-08-06|      2015|258710|       3|        3|       1918|    9666|     1|         0|  25|\n",
            "|f876d86f-3c9f-42b...|2019-02-27|      2011|167864|       3|        3|       2471|   13924|     2|         0|  15|\n",
            "|0a2bd445-8508-4d8...|2021-12-30|      2014|337527|       2|        3|       1926|   12556|     1|         0|  23|\n",
            "|941bad30-eb49-4a7...|2020-05-09|      2015|229896|       3|        3|       2197|    8641|     1|         0|   3|\n",
            "|dd61eb34-6589-4c0...|2021-07-25|      2016|210247|       3|        2|       1672|   11986|     2|         0|  28|\n",
            "|f1e4cef7-d151-439...|2019-02-01|      2011|398667|       2|        3|       2331|   11356|     1|         0|   7|\n",
            "|ea620c7b-c2f7-4c6...|2021-05-31|      2011|437958|       3|        3|       2356|   11052|     1|         0|  26|\n",
            "|f233cb41-6f33-4b0...|2021-07-18|      2016|437375|       4|        3|       1704|   11721|     2|         0|  34|\n",
            "|c797ca12-52cd-4b1...|2019-06-08|      2015|288650|       2|        3|       2100|   10419|     2|         0|   7|\n",
            "|0cfe57f3-28c2-472...|2019-10-04|      2015|308313|       3|        3|       1960|    9453|     2|         0|   2|\n",
            "|4566cd2a-ac6e-435...|2019-07-15|      2016|177541|       3|        3|       2130|   10517|     2|         0|  25|\n",
            "+--------------------+----------+----------+------+--------+---------+-----------+--------+------+----------+----+\n",
            "only showing top 20 rows\n",
            "\n"
          ]
        }
      ],
      "source": [
        "# 1. Read in the AWS S3 bucket into a DataFrame.\n",
        "from pyspark import SparkFiles\n",
        "url = \"https://2u-data-curriculum-team.s3.amazonaws.com/dataviz-classroom/v1.2/22-big-data/home_sales_revised.csv\"\n",
        "spark.sparkContext.addFile(url)\n",
        "df = spark.read.csv(SparkFiles.get('home_sales_revised.csv'),header=True, ignoreLeadingWhiteSpace=True, inferSchema=True, quote=\"\\\"\" , escape=\"\\\"\", )\n",
        "df.show()"
      ]
    },
    {
      "cell_type": "code",
      "execution_count": 44,
      "metadata": {
        "id": "RoljcJ7WPpnm"
      },
      "outputs": [],
      "source": [
        "# 2. Create a temporary view of the DataFrame.\n",
        "df.createOrReplaceTempView('home_sales')"
      ]
    },
    {
      "cell_type": "code",
      "source": [
        "print(\"Total Record in DataFrame : \", df.count())\n",
        "df.printSchema()"
      ],
      "metadata": {
        "colab": {
          "base_uri": "https://localhost:8080/"
        },
        "id": "yq3KW6z160ti",
        "outputId": "3f8704a7-c71e-4911-8574-92550ca6d965"
      },
      "execution_count": 45,
      "outputs": [
        {
          "output_type": "stream",
          "name": "stdout",
          "text": [
            "Total Record in DataFrame :  33287\n",
            "root\n",
            " |-- id: string (nullable = true)\n",
            " |-- date: date (nullable = true)\n",
            " |-- date_built: integer (nullable = true)\n",
            " |-- price: integer (nullable = true)\n",
            " |-- bedrooms: integer (nullable = true)\n",
            " |-- bathrooms: integer (nullable = true)\n",
            " |-- sqft_living: integer (nullable = true)\n",
            " |-- sqft_lot: integer (nullable = true)\n",
            " |-- floors: integer (nullable = true)\n",
            " |-- waterfront: integer (nullable = true)\n",
            " |-- view: integer (nullable = true)\n",
            "\n"
          ]
        }
      ]
    },
    {
      "cell_type": "code",
      "source": [
        "# 3. What is the average price for a four bedroom house sold per year, rounded to two decimal places?\n",
        "query = \"\"\"\n",
        "  SELECT YEAR(date), ROUND(AVG(price),2) as avg_price_4BR\n",
        "  FROM home_sales\n",
        "  WHERE bedrooms==4\n",
        "  GROUP BY YEAR(date)\n",
        "  ORDER By YEAR(date) desc\n",
        "\"\"\"\n",
        "avg_price_4_BR = spark.sql(query).show()"
      ],
      "metadata": {
        "colab": {
          "base_uri": "https://localhost:8080/"
        },
        "id": "0A_jxxkajyTe",
        "outputId": "3286d307-b9ca-4b42-b641-9064be9c154e"
      },
      "execution_count": 46,
      "outputs": [
        {
          "output_type": "stream",
          "name": "stdout",
          "text": [
            "+----------+-------------+\n",
            "|year(date)|avg_price_4BR|\n",
            "+----------+-------------+\n",
            "|      2022|    296363.88|\n",
            "|      2021|    301819.44|\n",
            "|      2020|    298353.78|\n",
            "|      2019|     300263.7|\n",
            "+----------+-------------+\n",
            "\n"
          ]
        }
      ]
    },
    {
      "cell_type": "code",
      "source": [
        "# 4. What is the average price of a home for each year the home was built,\n",
        "# that have 3 bedrooms and 3 bathrooms, rounded to two decimal places?\n",
        "\n",
        "query = \"\"\"\n",
        "  SELECT date_built, ROUND(AVG(price),2) as avg_price_3BR_3Bath\n",
        "  FROM home_sales\n",
        "  WHERE bedrooms==3 AND bathrooms==3\n",
        "  GROUP BY date_built\n",
        "  ORDER By date_built desc\n",
        "\"\"\"\n",
        "avg_price_3BR_3Bath = spark.sql(query).show()"
      ],
      "metadata": {
        "colab": {
          "base_uri": "https://localhost:8080/"
        },
        "id": "0tNqMyJylUZt",
        "outputId": "f6efa68e-f866-4b1c-af8e-a56ae20fbac3"
      },
      "execution_count": 47,
      "outputs": [
        {
          "output_type": "stream",
          "name": "stdout",
          "text": [
            "+----------+-------------------+\n",
            "|date_built|avg_price_3BR_3Bath|\n",
            "+----------+-------------------+\n",
            "|      2017|          292676.79|\n",
            "|      2016|          290555.07|\n",
            "|      2015|           288770.3|\n",
            "|      2014|          290852.27|\n",
            "|      2013|          295962.27|\n",
            "|      2012|          293683.19|\n",
            "|      2011|          291117.47|\n",
            "|      2010|          292859.62|\n",
            "+----------+-------------------+\n",
            "\n"
          ]
        }
      ]
    },
    {
      "cell_type": "code",
      "execution_count": 48,
      "metadata": {
        "id": "Y-Eytz64liDU",
        "colab": {
          "base_uri": "https://localhost:8080/"
        },
        "outputId": "908fcbaf-37dc-42d6-bdb2-3323bb8176fd"
      },
      "outputs": [
        {
          "output_type": "stream",
          "name": "stdout",
          "text": [
            "+----------+---------------------------------+\n",
            "|date_built|avg_price_3BR_3Bath_2floor_2Ksqft|\n",
            "+----------+---------------------------------+\n",
            "|      2017|                        280317.58|\n",
            "|      2016|                         293965.1|\n",
            "|      2015|                        297609.97|\n",
            "|      2014|                        298264.72|\n",
            "|      2013|                        303676.79|\n",
            "|      2012|                        307539.97|\n",
            "|      2011|                        276553.81|\n",
            "|      2010|                        285010.22|\n",
            "+----------+---------------------------------+\n",
            "\n"
          ]
        }
      ],
      "source": [
        "# 5. What is the average price of a home for each year the home was built,\n",
        "# that have 3 bedrooms, 3 bathrooms, with two floors,\n",
        "# and are greater than or equal to 2,000 square feet, rounded to two decimal places?\n",
        "\n",
        "query = \"\"\"\n",
        "  SELECT date_built, ROUND(AVG(price),2) as avg_price_3BR_3Bath_2floor_2Ksqft\n",
        "  FROM home_sales\n",
        "  WHERE bedrooms==3 AND bathrooms==3 AND floors==2 AND sqft_living >= 2000\n",
        "  GROUP BY date_built\n",
        "  ORDER By date_built desc\n",
        "\"\"\"\n",
        "avg_price_3BR_3Bath_2floor_2Ksqft = spark.sql(query).show()\n"
      ]
    },
    {
      "cell_type": "code",
      "execution_count": 49,
      "metadata": {
        "colab": {
          "base_uri": "https://localhost:8080/"
        },
        "id": "GUrfgOX1pCRd",
        "outputId": "55da2ee5-dbba-4aad-c432-68d78047e383"
      },
      "outputs": [
        {
          "output_type": "stream",
          "name": "stdout",
          "text": [
            "+----+-----------------+\n",
            "|view|avg_price_by_view|\n",
            "+----+-----------------+\n",
            "| 100|        1026669.5|\n",
            "|  99|       1061201.42|\n",
            "|  98|       1053739.33|\n",
            "|  97|       1129040.15|\n",
            "|  96|       1017815.92|\n",
            "|  95|        1054325.6|\n",
            "|  94|        1033536.2|\n",
            "|  93|       1026006.06|\n",
            "|  92|        970402.55|\n",
            "|  91|       1137372.73|\n",
            "|  90|       1062654.16|\n",
            "|  89|       1107839.15|\n",
            "|  88|       1031719.35|\n",
            "|  87|        1072285.2|\n",
            "|  86|       1070444.25|\n",
            "|  85|       1056336.74|\n",
            "|  84|       1117233.13|\n",
            "|  83|       1033965.93|\n",
            "|  82|        1063498.0|\n",
            "|  81|       1053472.79|\n",
            "+----+-----------------+\n",
            "only showing top 20 rows\n",
            "\n",
            "--- 0.3898930549621582 seconds ---\n"
          ]
        }
      ],
      "source": [
        "# 6. What is the average price of a home per \"view\" rating, rounded to two decimal places,\n",
        "# having an average home price greater than or equal to $350,000? Order by descending view rating.\n",
        "# Although this is a small dataset, determine the run time for this query.\n",
        "\n",
        "import time\n",
        "start_time = time.time()\n",
        "\n",
        "query = \"\"\"\n",
        "  SELECT view, ROUND(AVG(price),2) as avg_price_by_view\n",
        "  FROM home_sales\n",
        "  GROUP BY view\n",
        "  HAVING ROUND(AVG(price),2) >= 350000\n",
        "  ORDER BY view DESC\n",
        "\"\"\"\n",
        "spark.sql(query).show()\n",
        "\n",
        "print(\"--- %s seconds ---\" % (time.time() - start_time))"
      ]
    },
    {
      "cell_type": "code",
      "execution_count": 50,
      "metadata": {
        "id": "KAhk3ZD2tFy8",
        "colab": {
          "base_uri": "https://localhost:8080/"
        },
        "outputId": "545d2eb2-ecca-4353-9dba-babcf99b0c24"
      },
      "outputs": [
        {
          "output_type": "execute_result",
          "data": {
            "text/plain": [
              "DataFrame[]"
            ]
          },
          "metadata": {},
          "execution_count": 50
        }
      ],
      "source": [
        "# 7. Cache the the temporary table home_sales.\n",
        "spark.sql('cache table home_sales')"
      ]
    },
    {
      "cell_type": "code",
      "execution_count": 51,
      "metadata": {
        "id": "4opVhbvxtL-i",
        "colab": {
          "base_uri": "https://localhost:8080/"
        },
        "outputId": "d7cb471e-4476-44af-d087-605a81f9e8a9"
      },
      "outputs": [
        {
          "output_type": "execute_result",
          "data": {
            "text/plain": [
              "True"
            ]
          },
          "metadata": {},
          "execution_count": 51
        }
      ],
      "source": [
        "# 8. Check if the table is cached.\n",
        "spark.catalog.isCached('home_sales')"
      ]
    },
    {
      "cell_type": "code",
      "source": [
        "# 9. Using the cached data, run the last query above, that calculates\n",
        "# the average price of a home per \"view\" rating, rounded to two decimal places,\n",
        "# having an average home price greater than or equal to $350,000.\n",
        "# Determine the runtime and compare it to the uncached runtime.\n",
        "\n",
        "start_time = time.time()\n",
        "\n",
        "query = \"\"\"\n",
        "  SELECT view, ROUND(AVG(price),2) as avg_price_by_view\n",
        "  FROM home_sales\n",
        "  GROUP BY view\n",
        "  HAVING ROUND(AVG(price),2) >= 350000\n",
        "  ORDER BY view DESC\n",
        "\"\"\"\n",
        "spark.sql(query).show()\n",
        "\n",
        "print(\"--- %s seconds ---\" % (time.time() - start_time))"
      ],
      "metadata": {
        "colab": {
          "base_uri": "https://localhost:8080/"
        },
        "id": "TR2FeI5yS-KS",
        "outputId": "2f44c014-e02c-47cb-fe32-32441c3e070d"
      },
      "execution_count": 52,
      "outputs": [
        {
          "output_type": "stream",
          "name": "stdout",
          "text": [
            "+----+-----------------+\n",
            "|view|avg_price_by_view|\n",
            "+----+-----------------+\n",
            "| 100|        1026669.5|\n",
            "|  99|       1061201.42|\n",
            "|  98|       1053739.33|\n",
            "|  97|       1129040.15|\n",
            "|  96|       1017815.92|\n",
            "|  95|        1054325.6|\n",
            "|  94|        1033536.2|\n",
            "|  93|       1026006.06|\n",
            "|  92|        970402.55|\n",
            "|  91|       1137372.73|\n",
            "|  90|       1062654.16|\n",
            "|  89|       1107839.15|\n",
            "|  88|       1031719.35|\n",
            "|  87|        1072285.2|\n",
            "|  86|       1070444.25|\n",
            "|  85|       1056336.74|\n",
            "|  84|       1117233.13|\n",
            "|  83|       1033965.93|\n",
            "|  82|        1063498.0|\n",
            "|  81|       1053472.79|\n",
            "+----+-----------------+\n",
            "only showing top 20 rows\n",
            "\n",
            "--- 0.25015926361083984 seconds ---\n"
          ]
        }
      ]
    },
    {
      "cell_type": "code",
      "execution_count": 53,
      "metadata": {
        "id": "Qm12WN9isHBR"
      },
      "outputs": [],
      "source": [
        "# 10. Partition by the \"date_built\" field on the formatted parquet home sales data\n",
        "df.write.partitionBy(\"date_built\").mode(\"overwrite\").parquet(\"partitioned_home_sales\")"
      ]
    },
    {
      "cell_type": "code",
      "execution_count": 54,
      "metadata": {
        "id": "AZ7BgY61sRqY"
      },
      "outputs": [],
      "source": [
        "# 11. Read the parquet formatted data.\n",
        "parquet_df = spark.read.parquet('partitioned_home_sales')"
      ]
    },
    {
      "cell_type": "code",
      "execution_count": 55,
      "metadata": {
        "id": "J6MJkHfvVcvh"
      },
      "outputs": [],
      "source": [
        "# 12. Create a temporary table for the parquet data.\n",
        "parquet_df.createOrReplaceTempView('temp_home_parquet')"
      ]
    },
    {
      "cell_type": "code",
      "execution_count": 56,
      "metadata": {
        "colab": {
          "base_uri": "https://localhost:8080/"
        },
        "id": "G_Vhb52rU1Sn",
        "outputId": "88da8c85-c1f1-41fb-d4ec-77b0b5c09031"
      },
      "outputs": [
        {
          "output_type": "stream",
          "name": "stdout",
          "text": [
            "+----+-----------------+\n",
            "|view|avg_price_by_view|\n",
            "+----+-----------------+\n",
            "| 100|        1026669.5|\n",
            "|  99|       1061201.42|\n",
            "|  98|       1053739.33|\n",
            "|  97|       1129040.15|\n",
            "|  96|       1017815.92|\n",
            "|  95|        1054325.6|\n",
            "|  94|        1033536.2|\n",
            "|  93|       1026006.06|\n",
            "|  92|        970402.55|\n",
            "|  91|       1137372.73|\n",
            "|  90|       1062654.16|\n",
            "|  89|       1107839.15|\n",
            "|  88|       1031719.35|\n",
            "|  87|        1072285.2|\n",
            "|  86|       1070444.25|\n",
            "|  85|       1056336.74|\n",
            "|  84|       1117233.13|\n",
            "|  83|       1033965.93|\n",
            "|  82|        1063498.0|\n",
            "|  81|       1053472.79|\n",
            "+----+-----------------+\n",
            "only showing top 20 rows\n",
            "\n",
            "--- 0.3461942672729492 seconds ---\n"
          ]
        }
      ],
      "source": [
        "# 13. Using the parquet DataFrame, run the last query above, that calculates\n",
        "# the average price of a home per \"view\" rating, rounded to two decimal places,\n",
        "# having an average home price greater than or equal to $350,000.\n",
        "# Determine the runtime and compare it to the cached runtime.\n",
        "\n",
        "start_time = time.time()\n",
        "\n",
        "query = \"\"\"\n",
        "  SELECT view, ROUND(AVG(price),2) as avg_price_by_view\n",
        "  FROM temp_home_parquet\n",
        "  GROUP BY view\n",
        "  HAVING ROUND(AVG(price),2) >= 350000\n",
        "  ORDER BY view DESC\n",
        "\"\"\"\n",
        "spark.sql(query).show()\n",
        "\n",
        "print(\"--- %s seconds ---\" % (time.time() - start_time))"
      ]
    },
    {
      "cell_type": "code",
      "execution_count": 57,
      "metadata": {
        "id": "hjjYzQGjtbq8",
        "colab": {
          "base_uri": "https://localhost:8080/"
        },
        "outputId": "b4478d22-1b96-4ee6-def4-5b32f67155f9"
      },
      "outputs": [
        {
          "output_type": "execute_result",
          "data": {
            "text/plain": [
              "DataFrame[]"
            ]
          },
          "metadata": {},
          "execution_count": 57
        }
      ],
      "source": [
        "# 14. Uncache the home_sales temporary table.\n",
        "spark.sql(\"uncache table home_sales\")"
      ]
    },
    {
      "cell_type": "code",
      "execution_count": 58,
      "metadata": {
        "id": "Sy9NBvO7tlmm",
        "colab": {
          "base_uri": "https://localhost:8080/"
        },
        "outputId": "86b0120e-d228-488c-e293-6323129ee0fb"
      },
      "outputs": [
        {
          "output_type": "execute_result",
          "data": {
            "text/plain": [
              "False"
            ]
          },
          "metadata": {},
          "execution_count": 58
        }
      ],
      "source": [
        "# 15. Check if the home_sales is no longer cached\n",
        "spark.catalog.isCached('home_sales')\n"
      ]
    },
    {
      "cell_type": "code",
      "execution_count": null,
      "metadata": {
        "id": "Si-BNruRUGK3"
      },
      "outputs": [],
      "source": []
    }
  ],
  "metadata": {
    "colab": {
      "provenance": []
    },
    "gpuClass": "standard",
    "kernelspec": {
      "display_name": "Python 3 (ipykernel)",
      "language": "python",
      "name": "python3"
    },
    "language_info": {
      "codemirror_mode": {
        "name": "ipython",
        "version": 3
      },
      "file_extension": ".py",
      "mimetype": "text/x-python",
      "name": "python",
      "nbconvert_exporter": "python",
      "pygments_lexer": "ipython3",
      "version": "3.10.4"
    },
    "nteract": {
      "version": "0.28.0"
    }
  },
  "nbformat": 4,
  "nbformat_minor": 0
}